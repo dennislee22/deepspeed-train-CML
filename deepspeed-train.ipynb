{
 "cells": [
  {
   "cell_type": "code",
   "execution_count": null,
   "id": "4fd8ad75-54b6-403f-b4d1-5584d402c7ca",
   "metadata": {},
   "outputs": [],
   "source": [
    "from cml.workers_v1 import launch_workers\n",
    "import subprocess, socket, os, sys\n",
    "from subprocess import call \n",
    "\n",
    "NUM_WORKERS = 3\n",
    "worker_cpu = 4\n",
    "worker_memory = 32\n",
    "worker_gpu = 1\n",
    "hostfile = \"/home/cdsw/hostfile.txt\"\n",
    "\n",
    "def display_file_content(file_path):\n",
    "    with open(file_path, 'r', encoding='utf-8') as file:\n",
    "        content = file.read()\n",
    "        print(content)\n",
    "\n",
    "#preparing hostfile with pdsh/openMPI specific format\n",
    "def redirect_to_file(text):\n",
    "    file = open(hostfile, 'a')\n",
    "    file.write(text + \" slots=1\\n\")\n",
    "    file.close\n",
    "    \n",
    "for i in range(NUM_WORKERS):\n",
    "    worker_cmd = \"python worker_p.py\"\n",
    "    print(f\"Launch CML worker pod {i}...\")\n",
    "    # worker0 runs a different script\n",
    "    if i == 0:\n",
    "        with open('/home/cdsw/hostfile.txt', 'w') as f_obj:\n",
    "            call(['python', 'master_p.py'], stdout=f_obj)\n",
    "    else:\n",
    "        launch_workers(name=f'CML Worker Pods {i}', n=1, cpu=worker_cpu, memory=worker_memory, nvidia_gpu = worker_gpu,  code=\"!\"+worker_cmd )\n",
    "        s = socket.socket(socket.AF_INET, socket.SOCK_STREAM)\n",
    "        s.bind((\"0.0.0.0\", 6000))\n",
    "        s.listen(1)    \n",
    "        conn, addr = s.accept()\n",
    "        for i in range(2):\n",
    "            data = conn.recv(20)\n",
    "            if not data: break\n",
    "            string = str(data, encoding='utf-8')\n",
    "            redirect_to_file(string)\n",
    "            conn.send(\"Hello From Server!\".encode())\n",
    "        conn.close()\n",
    "\n",
    "print(\"Content of hostfile:\")\n",
    "display_file_content(hostfile)"
   ]
  },
  {
   "cell_type": "code",
   "execution_count": null,
   "id": "7808bb97-1b5c-4cb0-bcbf-6a14e49b0d0e",
   "metadata": {},
   "outputs": [],
   "source": [
    "!export PDSH_SSH_ARGS_APPEND='';deepspeed --hostfile /home/cdsw/hostfile.txt \\\n",
    "--launcher pdsh \\\n",
    "--num_nodes 3 \\\n",
    "--num_gpus 1 \\\n",
    "--master_addr $CDSW_IP_ADDRESS \\\n",
    "--ssh_port 2222 textsql_train.py \\\n",
    "--model_id 't5-small' \\\n",
    "--outputdir ds-zero1-t5small \\\n",
    "--epochs 3 \\\n",
    "--per_device_train_batch_size 32 \\\n",
    "--per_device_eval_batch_size 32 \\\n",
    "--deepspeed dsconfig/zero1profiler.json"
   ]
  },
  {
   "cell_type": "code",
   "execution_count": null,
   "id": "4d919438-c0fa-4c08-8dd2-e91c5bed4dcf",
   "metadata": {},
   "outputs": [],
   "source": [
    "!export PDSH_SSH_ARGS_APPEND='';deepspeed --hostfile /home/cdsw/hostfile.txt \\\n",
    "--launcher pdsh \\\n",
    "--num_nodes 3 \\\n",
    "--num_gpus 1 \\\n",
    "--master_addr $CDSW_IP_ADDRESS \\\n",
    "--ssh_port 2222 textsql_train.py \\\n",
    "--model_id 't5-large' \\\n",
    "--outputdir ds-trainoutput-wikisql \\\n",
    "--epochs 3 \\\n",
    "--gradient_checkpointing False \\\n",
    "--per_device_train_batch_size 32 \\\n",
    "--per_device_eval_batch_size 32 \\\n",
    "--deepspeed dsconfig/zero1profiler.json"
   ]
  },
  {
   "cell_type": "code",
   "execution_count": null,
   "id": "a77e28da-90a4-4f08-83c7-058d2728a697",
   "metadata": {},
   "outputs": [],
   "source": [
    "!export PDSH_SSH_ARGS_APPEND='';deepspeed --hostfile /home/cdsw/hostfile.txt \\\n",
    "--launcher pdsh \\\n",
    "--num_nodes 2 \\\n",
    "--num_gpus 1 \\\n",
    "--master_addr $CDSW_IP_ADDRESS \\\n",
    "--ssh_port 2222 textsql_train.py \\\n",
    "--model_id 't5-large' \\\n",
    "--outputdir ds-trainoutput-wikisql \\\n",
    "--epochs 3 \\\n",
    "--gradient_checkpointing True \\\n",
    "--per_device_train_batch_size 32 \\\n",
    "--per_device_eval_batch_size 32 \\\n",
    "--deepspeed dsconfig/zero1profiler.json"
   ]
  },
  {
   "cell_type": "code",
   "execution_count": null,
   "id": "6a455649-943d-4447-a61e-61302bf30fcf",
   "metadata": {
    "tags": []
   },
   "outputs": [],
   "source": [
    "!export PDSH_SSH_ARGS_APPEND='';deepspeed --hostfile /home/cdsw/hostfile.txt \\\n",
    "--launcher pdsh \\\n",
    "--num_nodes 3 \\\n",
    "--num_gpus 1 \\\n",
    "--master_addr $CDSW_IP_ADDRESS \\\n",
    "--ssh_port 2222 textsql_train.py \\\n",
    "--model_id 't5-3b' \\\n",
    "--outputdir ds-train-zero3-large \\\n",
    "--epochs 3 \\\n",
    "--gradient_checkpointing False \\\n",
    "--per_device_train_batch_size 1 \\\n",
    "--per_device_eval_batch_size 1 \\\n",
    "--deepspeed dsconfig/zero3profiler.json"
   ]
  },
  {
   "cell_type": "code",
   "execution_count": null,
   "id": "6dd36ca9-17d4-4078-8aa7-f91df953f3d2",
   "metadata": {},
   "outputs": [],
   "source": []
  }
 ],
 "metadata": {
  "kernelspec": {
   "display_name": "Python 3 (ipykernel)",
   "language": "python",
   "name": "python3"
  },
  "language_info": {
   "codemirror_mode": {
    "name": "ipython",
    "version": 3
   },
   "file_extension": ".py",
   "mimetype": "text/x-python",
   "name": "python",
   "nbconvert_exporter": "python",
   "pygments_lexer": "ipython3",
   "version": "3.10.9"
  }
 },
 "nbformat": 4,
 "nbformat_minor": 5
}
