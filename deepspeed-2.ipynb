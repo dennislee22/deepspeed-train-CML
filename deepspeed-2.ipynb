{
 "cells": [
  {
   "cell_type": "code",
   "execution_count": 1,
   "id": "ee1a634b-60d4-4b13-bbbc-17e698c5b8a6",
   "metadata": {},
   "outputs": [],
   "source": [
    "import sys\n",
    "import os\n",
    "import subprocess\n",
    "from string import Template\n",
    "import shutil\n",
    "\n",
    "NUM_WORKERS = 2\n",
    "os.environ['PDSH_SSH_ARGS_APPEND'] = ''\n",
    "os.environ['NCCL_IB_DISABLE'] = '1'\n",
    "os.environ['NCCL_IBEXT_DISABLE'] = '1'\n",
    "os.environ['NCCL_SOCKET_IFNAME'] = 'eth0'\n",
    "os.environ['NCCL_DEBUG'] = 'INFO'\n",
    "      \n",
    "MASTER_IP = os.environ[\"CDSW_IP_ADDRESS\"]\n",
    "MASTER_PORT = \"1234\"\n",
    "trainlogs = \"trainlogs\"\n",
    "train_script=\"ft-LoRA-merge.py\"\n",
    "#train_script=\"peft_lora_seq2seq.py\"\n",
    "myhostfile=\"hostfile.txt\"\n",
    "deepspeed_cfg=\"dsconfig/zero2auto.jso\"\n",
    "#deepspeed_cfg=\"ds_zero3_cpu.yaml\"\n",
    "worker_gpu=1  \n",
    "sshd_port=2222\n",
    "\n",
    "deepspeed_cmd = \"deepspeed --hostfile $myhostfile \\\n",
    "--launcher pdsh \\\n",
    "--num_gpus $worker_gpu --num_nodes $NUM_WORKERS \\\n",
    "--master_addr $MASTER_IP \\\n",
    "--ssh_port $sshd_port $train_script \\\n",
    "--deepspeed $deepspeed_cfg\"\n",
    "\n",
    "cml_cmd=Template(deepspeed_cmd).substitute(myhostfile=myhostfile, train_script=train_script,\n",
    "worker_gpu=worker_gpu, NUM_WORKERS=NUM_WORKERS, sshd_port=sshd_port, MASTER_IP=MASTER_IP, MASTER_PORT=MASTER_PORT,\n",
    "deepspeed_cfg=deepspeed_cfg)"
   ]
  },
  {
   "cell_type": "code",
   "execution_count": null,
   "id": "995feba7-772c-459c-8614-3be6251b214f",
   "metadata": {},
   "outputs": [],
   "source": [
    "!deepspeed --hostfile {myhostfile} \\\n",
    "--launcher pdsh \\\n",
    "--num_gpus {worker_gpu} --num_nodes {NUM_WORKERS} \\\n",
    "--master_addr {MASTER_IP} \\\n",
    "--ssh_port {sshd_port} {train_script} \\\n",
    "--per_device_train_batch_size 1 \\\n",
    "--deepspeed {deepspeed_cfg} \\\n",
    "--source_lang en --target_lang ro"
   ]
  },
  {
   "cell_type": "code",
   "execution_count": null,
   "id": "854e16a8-afd6-4a90-b324-f89293a6d4fb",
   "metadata": {},
   "outputs": [],
   "source": [
    "def remove_dir(dir_path):\n",
    "    try:\n",
    "        shutil.rmtree(dir_path)\n",
    "        print(f\"Folder '{dir_path}' has been deleted.\")\n",
    "    except Exception as e:\n",
    "        # Ignore errors, you can print a message if needed\n",
    "        print(f\"Folder '{dir_path}' has been deleted.\")\n",
    "        \n",
    "base_model = \"bloom-1b1\"\n",
    "base_model_name = \"bloom-1b1\"\n",
    "merged_model = \"merged_bloom-1b1\"\n",
    "training_output = \"training_bloom-1b1\"\n",
    "remove_dir(training_output) \n",
    "remove_dir(merged_model)\n",
    "remove_dir(trainlogs)"
   ]
  },
  {
   "cell_type": "code",
   "execution_count": null,
   "id": "b6fa0e9b-ad08-4482-9668-78ff7ad4b057",
   "metadata": {},
   "outputs": [],
   "source": [
    "main_cmd = subprocess.Popen([f'bash -c \"{cml_cmd}\" '], shell=True)\n",
    "main_cmd.communicate()"
   ]
  },
  {
   "cell_type": "code",
   "execution_count": null,
   "id": "dd64ae4b-98f0-4f50-a700-034694913ecf",
   "metadata": {},
   "outputs": [],
   "source": [
    "# Please restart the iPython kernel manually."
   ]
  },
  {
   "cell_type": "code",
   "execution_count": null,
   "id": "cec8ff9e-40a6-4aa5-9fe0-4f7e370c2d6e",
   "metadata": {},
   "outputs": [],
   "source": [
    "!deepspeed --hostfile {myhostfile} \\\n",
    "--launcher pdsh \\\n",
    "--num_gpus {worker_gpu} --num_nodes {NUM_WORKERS} \\\n",
    "--master_addr {MASTER_IP} \\\n",
    "--ssh_port {sshd_port} run_translation.py \\\n",
    "--model_name_or_path t5-large --per_device_train_batch_size 1 \\\n",
    "--deepspeed {deepspeed_cfg} \\\n",
    "--output_dir output_dir --overwrite_output_dir --fp16 \\\n",
    "--do_train --max_train_samples 500 --num_train_epochs 1 \\\n",
    "--dataset_name wmt16 --dataset_config \"ro-en\" \\\n",
    "--source_lang en --target_lang ro"
   ]
  },
  {
   "cell_type": "code",
   "execution_count": null,
   "id": "0c071a5d-61c1-4dbd-83e2-dab7e846a3f2",
   "metadata": {},
   "outputs": [],
   "source": []
  }
 ],
 "metadata": {
  "kernelspec": {
   "display_name": "Python 3 (ipykernel)",
   "language": "python",
   "name": "python3"
  },
  "language_info": {
   "codemirror_mode": {
    "name": "ipython",
    "version": 3
   },
   "file_extension": ".py",
   "mimetype": "text/x-python",
   "name": "python",
   "nbconvert_exporter": "python",
   "pygments_lexer": "ipython3",
   "version": "3.9.11"
  }
 },
 "nbformat": 4,
 "nbformat_minor": 5
}
