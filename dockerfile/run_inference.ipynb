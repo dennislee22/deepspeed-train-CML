{
 "cells": [
  {
   "cell_type": "code",
   "execution_count": 1,
   "id": "78d731a0-b261-44a2-87d0-451fa5040d7f",
   "metadata": {
    "tags": []
   },
   "outputs": [
    {
     "name": "stderr",
     "output_type": "stream",
     "text": [
      "/home/cdsw/.local/lib/python3.10/site-packages/tqdm/auto.py:21: TqdmWarning: IProgress not found. Please update jupyter and ipywidgets. See https://ipywidgets.readthedocs.io/en/stable/user_install.html\n",
      "  from .autonotebook import tqdm as notebook_tqdm\n"
     ]
    },
    {
     "name": "stdout",
     "output_type": "stream",
     "text": [
      "cuda:0\n",
      "\n",
      "Parameters:\n",
      "Total parameters: 60.5066 M\n",
      "\n",
      "Data types:\n",
      "torch.float32, 60.5066 M, 100.00 %\n"
     ]
    }
   ],
   "source": [
    "#ft_model = \"small-trainoutput-nods\"\n",
    "ft_model = \"ds-zero1-t5small\"\n",
    "from transformers import AutoTokenizer, AutoModelForSeq2SeqLM\n",
    "import torch\n",
    "from torch import cuda\n",
    "\n",
    "device_map = \"cuda:0\" if torch.cuda.is_available() else \"cpu\"\n",
    "print(device_map)\n",
    "\n",
    "#model = AutoModelForSeq2SeqLM.from_pretrained(ft_model,device_map=device_map)\n",
    "model = AutoModelForSeq2SeqLM.from_pretrained(ft_model,device_map=\"cpu\")\n",
    "tokenizer = AutoTokenizer.from_pretrained(ft_model)\n",
    "from datasets import load_dataset\n",
    "\n",
    "test_data = load_dataset('wikisql', split='test')\n",
    "\n",
    "def translate_to_sql(text):\n",
    "    inputs = tokenizer(text, padding='longest', max_length=128, return_tensors='pt').to(\"cpu\")\n",
    "    #inputs = tokenizer(text, padding='longest', max_length=128, return_tensors='pt').to(device_map)\n",
    "    input_ids = inputs.input_ids\n",
    "    #attention_mask = inputs.attention_mask\n",
    "    #output = model.generate(input_ids, attention_mask=attention_mask, max_length=64)\n",
    "    output = model.generate(input_ids, max_length=96)\n",
    "    \n",
    "    return tokenizer.decode(output[0], skip_special_tokens=True)\n",
    "\n",
    "def print_param_precision(model):\n",
    "  dtypes = {}\n",
    "  for _, p in model.named_parameters():\n",
    "      dtype = p.dtype\n",
    "      if dtype not in dtypes:\n",
    "          dtypes[dtype] = 0\n",
    "      dtypes[dtype] += p.numel()\n",
    "  total = 0\n",
    "  for k, v in dtypes.items():\n",
    "      total += v\n",
    "  for k, v in dtypes.items():\n",
    "      print(f\"{k}, {v / 10**6:.4f} M, {v / total*100:.2f} %\")\n",
    "\n",
    "def print_parameters(model):\n",
    "  # Count the total parameters\n",
    "  total_params = sum(p.numel() for p in model.parameters())\n",
    "  print(f\"Total parameters: {total_params/10**6:.4f} M\")\n",
    "\n",
    "print(\"\\nParameters:\")\n",
    "print_parameters(model)\n",
    "print(\"\\nData types:\")\n",
    "print_param_precision(model)"
   ]
  },
  {
   "cell_type": "code",
   "execution_count": 9,
   "id": "f5c1ef67-8793-423e-83b2-95488c8dc749",
   "metadata": {
    "tags": []
   },
   "outputs": [
    {
     "name": "stdout",
     "output_type": "stream",
     "text": [
      "Test Instruction: How many different nationalities do the players of New Jersey Devils come from?\n",
      "Model Prediction: SELECT COUNT Nationalities FROM FROM table WHERE Players = New Jersey Devils\n",
      "Expected Answer: SELECT COUNT Nationality FROM table WHERE NHL team = New Jersey Devils\n",
      "=================================\n",
      "\n",
      "Test Instruction: What is the nationality of the player from Vancouver Canucks?\n",
      "Model Prediction: SELECT Nationality FROM table WHERE Player = Vancouver Canucks\n",
      "Expected Answer: SELECT Nationality FROM table WHERE NHL team = Vancouver Canucks\n",
      "=================================\n",
      "\n",
      "Test Instruction: When were the ships launched that were laid down on september 1, 1964?\n",
      "Model Prediction: SELECT Date FROM table WHERE Launched = september 1, 1964\n",
      "Expected Answer: SELECT Launched FROM table WHERE Laid down = September 1, 1964\n",
      "=================================\n",
      "\n",
      "Test Instruction: List the # for ships commissioned on september 30, 1967.\n",
      "Model Prediction: SELECT # FROM table WHERE Ships commissioned FROM table WHERE Ships commissioned = september 30, 1967\n",
      "Expected Answer: SELECT # FROM table WHERE Commissioned = September 30, 1967\n",
      "=================================\n",
      "\n",
      "Test Instruction:  What could a spanish coronel be addressed as in the commonwealth military?\n",
      "Model Prediction: SELECT AVG Spanish Coronel FROM table WHERE Commonwealth Military = Commonwealth\n",
      "Expected Answer: SELECT Commonwealth equivalent FROM table WHERE Rank in Spanish = Coronel\n",
      "=================================\n",
      "\n",
      "Inference took 1.46 seconds\n"
     ]
    }
   ],
   "source": [
    "import time\n",
    "start_time = time.time()\n",
    "\n",
    "for i in range(10,20,2):\n",
    "  print('Test Instruction: ' + test_data[i]['question'])\n",
    "  print('Model Prediction: ' + translate_to_sql('translate to SQL: ' + test_data[i]['question']))\n",
    "  print('Expected Answer: ' + test_data[i]['sql']['human_readable'])\n",
    "  print('=================================\\n')\n",
    "\n",
    "end_time = time.time()\n",
    "\n",
    "elapsed_time = end_time - start_time\n",
    "print(f\"Inference took {elapsed_time:.2f} seconds\")\n",
    "with open(\"Inference_time.txt\", \"w\") as file:\n",
    "    file.write(f\"Inference took {elapsed_time:.2f} seconds\")"
   ]
  },
  {
   "cell_type": "code",
   "execution_count": null,
   "id": "c26b8c01-cfc6-4632-a2de-842e1a61767d",
   "metadata": {},
   "outputs": [],
   "source": []
  }
 ],
 "metadata": {
  "kernelspec": {
   "display_name": "Python 3 (ipykernel)",
   "language": "python",
   "name": "python3"
  },
  "language_info": {
   "codemirror_mode": {
    "name": "ipython",
    "version": 3
   },
   "file_extension": ".py",
   "mimetype": "text/x-python",
   "name": "python",
   "nbconvert_exporter": "python",
   "pygments_lexer": "ipython3",
   "version": "3.10.9"
  }
 },
 "nbformat": 4,
 "nbformat_minor": 5
}
