{
 "cells": [
  {
   "cell_type": "code",
   "execution_count": null,
   "id": "54fde6eb-2f68-4830-afc6-b867db1fbdf4",
   "metadata": {},
   "outputs": [],
   "source": [
    "import sys\n",
    "import os\n",
    "import subprocess\n",
    "from string import Template\n",
    "import shutil\n",
    "\n",
    "NUM_WORKERS = 3\n",
    "os.environ['PDSH_SSH_ARGS_APPEND'] = ''\n",
    "os.environ['NCCL_IB_DISABLE'] = '1'\n",
    "os.environ['NCCL_IBEXT_DISABLE'] = '1'\n",
    "os.environ['NCCL_DEBUG'] = 'INFO'\n",
    "      \n",
    "MASTER_IP = os.environ[\"CDSW_IP_ADDRESS\"]\n",
    "train_script=\"ft-LoRA-merge.py\"\n",
    "myhostfile=\"hostfile.txt\"\n",
    "deepspeed_cfg=\"dsconfig/zero3_fp16.json\"\n",
    "worker_gpu=1  \n",
    "sshd_port=2222\n",
    "\n",
    "deepspeed_cmd = \"deepspeed --hostfile $myhostfile \\\n",
    "--launcher pdsh \\\n",
    "--num_gpus $worker_gpu --num_nodes $NUM_WORKERS \\\n",
    "--master_addr $MASTER_IP \\\n",
    "--ssh_port $sshd_port $train_script \\\n",
    "--deepspeed_config $deepspeed_cfg\"\n",
    "\n",
    "cml_cmd=Template(deepspeed_cmd).substitute(myhostfile=myhostfile, train_script=train_script, worker_gpu=worker_gpu, NUM_WORKERS=NUM_WORKERS, sshd_port=sshd_port, MASTER_IP=MASTER_IP, deepspeed_cfg=deepspeed_cfg)"
   ]
  },
  {
   "cell_type": "code",
   "execution_count": null,
   "id": "854e16a8-afd6-4a90-b324-f89293a6d4fb",
   "metadata": {},
   "outputs": [],
   "source": [
    "def remove_dir(dir_path):\n",
    "    try:\n",
    "        shutil.rmtree(dir_path)\n",
    "        print(f\"Folder '{dir_path}' has been deleted.\")\n",
    "    except Exception as e:\n",
    "        # Ignore errors, you can print a message if needed\n",
    "        print(f\"Folder '{dir_path}' has been deleted.\")\n",
    "        \n",
    "base_model = \"bloom-1b1\"\n",
    "base_model_name = \"bloom-1b1\"\n",
    "merged_model = \"merged_bloom-1b1\"\n",
    "training_output = \"training_bloom-1b1\"\n",
    "remove_dir(training_output) \n",
    "remove_dir(merged_model)"
   ]
  },
  {
   "cell_type": "code",
   "execution_count": null,
   "id": "b6fa0e9b-ad08-4482-9668-78ff7ad4b057",
   "metadata": {},
   "outputs": [],
   "source": [
    "main_cmd = subprocess.Popen([f'bash -c \"{cml_cmd}\" '], shell=True)\n",
    "main_cmd.communicate()"
   ]
  },
  {
   "cell_type": "code",
   "execution_count": null,
   "id": "c7aac721-14fb-4d6e-b0ee-15d24baa3b2b",
   "metadata": {},
   "outputs": [],
   "source": [
    "# Please restart the iPython kernel manually."
   ]
  }
 ],
 "metadata": {
  "kernelspec": {
   "display_name": "Python 3 (ipykernel)",
   "language": "python",
   "name": "python3"
  },
  "language_info": {
   "codemirror_mode": {
    "name": "ipython",
    "version": 3
   },
   "file_extension": ".py",
   "mimetype": "text/x-python",
   "name": "python",
   "nbconvert_exporter": "python",
   "pygments_lexer": "ipython3",
   "version": "3.9.11"
  }
 },
 "nbformat": 4,
 "nbformat_minor": 5
}
